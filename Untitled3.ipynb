{
  "nbformat": 4,
  "nbformat_minor": 0,
  "metadata": {
    "colab": {
      "provenance": []
    },
    "kernelspec": {
      "name": "python3",
      "display_name": "Python 3"
    },
    "language_info": {
      "name": "python"
    }
  },
  "cells": [
    {
      "cell_type": "code",
      "execution_count": null,
      "metadata": {
        "colab": {
          "base_uri": "https://localhost:8080/"
        },
        "id": "uS-axD3cNFuD",
        "outputId": "6da4d7f8-42a9-4dc0-eff9-b9cf3355aacb"
      },
      "outputs": [
        {
          "output_type": "stream",
          "name": "stdout",
          "text": [
            "Epoch [100/5000], Loss: 0.0107\n",
            "Epoch [200/5000], Loss: 0.0107\n",
            "Epoch [300/5000], Loss: 0.0107\n",
            "Epoch [400/5000], Loss: 0.0107\n",
            "Epoch [500/5000], Loss: 0.0107\n",
            "Epoch [600/5000], Loss: 0.0107\n",
            "Epoch [700/5000], Loss: 0.0107\n",
            "Epoch [800/5000], Loss: 0.0107\n",
            "Epoch [900/5000], Loss: 0.0107\n",
            "Epoch [1000/5000], Loss: 0.0107\n",
            "Epoch [1100/5000], Loss: 0.0107\n",
            "Epoch [1200/5000], Loss: 0.0107\n",
            "Epoch [1300/5000], Loss: 0.0107\n",
            "Epoch [1400/5000], Loss: 0.0107\n",
            "Epoch [1500/5000], Loss: 0.0107\n",
            "Epoch [1600/5000], Loss: 0.0107\n",
            "Epoch [1700/5000], Loss: 0.0107\n",
            "Epoch [1800/5000], Loss: 0.0107\n",
            "Epoch [1900/5000], Loss: 0.0107\n",
            "Epoch [2000/5000], Loss: 0.0107\n",
            "Epoch [2100/5000], Loss: 0.0107\n",
            "Epoch [2200/5000], Loss: 0.0107\n",
            "Epoch [2300/5000], Loss: 0.0107\n",
            "Epoch [2400/5000], Loss: 0.0107\n",
            "Epoch [2500/5000], Loss: 0.0107\n",
            "Epoch [2600/5000], Loss: 0.0107\n",
            "Epoch [2700/5000], Loss: 0.0107\n",
            "Epoch [2800/5000], Loss: 0.0107\n",
            "Epoch [2900/5000], Loss: 0.0107\n",
            "Epoch [3000/5000], Loss: 0.0107\n",
            "Epoch [3100/5000], Loss: 0.0107\n",
            "Epoch [3200/5000], Loss: 0.0107\n",
            "Epoch [3300/5000], Loss: 0.0107\n",
            "Epoch [3400/5000], Loss: 0.0107\n",
            "Epoch [3500/5000], Loss: 0.0107\n",
            "Epoch [3600/5000], Loss: 0.0107\n",
            "Epoch [3700/5000], Loss: 0.0107\n",
            "Epoch [3800/5000], Loss: 0.0107\n",
            "Epoch [3900/5000], Loss: 0.0107\n",
            "Epoch [4000/5000], Loss: 0.0107\n",
            "Epoch [4100/5000], Loss: 0.0107\n",
            "Epoch [4200/5000], Loss: 0.0107\n",
            "Epoch [4300/5000], Loss: 0.0107\n",
            "Epoch [4400/5000], Loss: 0.0107\n",
            "Epoch [4500/5000], Loss: 0.0107\n",
            "Epoch [4600/5000], Loss: 0.0107\n",
            "Epoch [4700/5000], Loss: 0.0107\n",
            "Epoch [4800/5000], Loss: 0.0107\n",
            "Epoch [4900/5000], Loss: 0.0107\n",
            "Epoch [5000/5000], Loss: 0.0107\n"
          ]
        },
        {
          "output_type": "display_data",
          "data": {
            "text/plain": [
              "<Figure size 640x480 with 1 Axes>"
            ],
            "image/png": "[encoded data removed]"
          },
          "metadata": {}
        },
        {
          "output_type": "stream",
          "name": "stdout",
          "text": [
            "Predicted price for a 2500 sq ft house: $499999.97\n"
          ]
        }
      ],
      "source": [
        "import torch\n",
        "import torch.nn as nn\n",
        "import numpy as np\n",
        "import matplotlib.pyplot as plt\n",
        "\n",
        "# Sample dataset\n",
        "data = np.array([\n",
        "    [1500, 300000],\n",
        "    [2000, 400000],\n",
        "    [2500, 500000],\n",
        "    [3000, 600000],\n",
        "    [3500, 700000]\n",
        "])\n",
        "\n",
        "# Separate features and labels\n",
        "X = data[:, 0].reshape(-1, 1).astype(np.float32)\n",
        "y = data[:, 1].reshape(-1, 1).astype(np.float32)\n",
        "\n",
        "# Convert numpy arrays to torch tensors\n",
        "X_tensor = torch.from_numpy(X)\n",
        "y_tensor = torch.from_numpy(y)\n",
        "\n",
        "# Define the linear regression model\n",
        "class LinearRegressionModel(nn.Module):\n",
        "    def __init__(self):\n",
        "        super(LinearRegressionModel, self).__init__()\n",
        "        self.linear = nn.Linear(1, 1)  # input dimension is 1, output dimension is 1\n",
        "\n",
        "    def forward(self, x):\n",
        "        return self.linear(x)\n",
        "\n",
        "model = LinearRegressionModel()\n",
        "\n",
        "# Define the loss function and optimizer\n",
        "criterion = nn.MSELoss()\n",
        "optimizer = torch.optim.SGD(model.parameters(), lr=1e-7)\n",
        "\n",
        "# Number of iterations for training\n",
        "num_epochs = 5000\n",
        "losses = []\n",
        "\n",
        "for epoch in range(num_epochs):\n",
        "    # Forward pass: Compute predicted y by passing X to the model\n",
        "    outputs = model(X_tensor)\n",
        "\n",
        "    # Compute and print loss\n",
        "    loss = criterion(outputs, y_tensor)\n",
        "\n",
        "    # Zero gradients, perform a backward pass, and update the weights.\n",
        "    optimizer.zero_grad()\n",
        "    loss.backward()\n",
        "    optimizer.step()\n",
        "\n",
        "    losses.append(loss.item())\n",
        "\n",
        "    if (epoch+1) % 100 == 0:\n",
        "        print(f'Epoch [{epoch+1}/{num_epochs}], Loss: {loss.item():.4f}')\n",
        "\n",
        "# Plot the loss over iterations\n",
        "plt.plot(range(num_epochs), losses)\n",
        "plt.xlabel('Epoch')\n",
        "plt.ylabel('Loss')\n",
        "plt.title('Loss Over Iterations')\n",
        "plt.show()\n",
        "\n",
        "# Make a prediction for a house size of 2500 sq ft\n",
        "house_size = torch.tensor([[2500.0]], dtype=torch.float32)\n",
        "predicted_price = model(house_size).item()\n",
        "\n",
        "print(f'Predicted price for a 2500 sq ft house: ${predicted_price:.2f}')"
      ]
    }
  ]
}