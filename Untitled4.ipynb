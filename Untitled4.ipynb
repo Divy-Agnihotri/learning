{
  "nbformat": 4,
  "nbformat_minor": 0,
  "metadata": {
    "colab": {
      "provenance": []
    },
    "kernelspec": {
      "name": "python3",
      "display_name": "Python 3"
    },
    "language_info": {
      "name": "python"
    }
  },
  "cells": [
    {
      "cell_type": "code",
      "execution_count": 5,
      "metadata": {
        "colab": {
          "base_uri": "https://localhost:8080/"
        },
        "id": "nnUB6RVh367x",
        "outputId": "2e84f831-2d60-4b5b-b239-81971a851660"
      },
      "outputs": [
        {
          "output_type": "stream",
          "name": "stdout",
          "text": [
            "tensor([[8, 8],\n",
            "        [8, 8]]) \n",
            "\n",
            "tensor([[0.6781, 0.5303],\n",
            "        [0.5160, 0.7033]]) \n",
            "\n",
            "Filled Tensor: \n",
            " tensor([[7, 7],\n",
            "        [7, 7]]) \n",
            "\n",
            "Ones Tensor: \n",
            " tensor([[1, 1],\n",
            "        [1, 1]]) \n",
            "\n",
            "Shape of tensor: torch.Size([2, 2])\n",
            "Datatype of tensor: torch.int64\n",
            "Device tensor is stored on: cpu\n"
          ]
        }
      ],
      "source": [
        "import numpy as np\n",
        "import torch\n",
        "arr = np.array([[1,22],[2,44]])\n",
        "ft = torch.from_numpy(arr)\n",
        "x_eights = torch.full_like(ft, fill_value=8) # retains the properties of x_data\n",
        "print(x_eights,\"\\n\")\n",
        "\n",
        "x_rand = torch.rand_like(ft, dtype=torch.float) # overrides the datatype of x_data\n",
        "print(x_rand,\"\\n\")\n",
        "\n",
        "x_filled = torch.full(ft.shape, 7)  # Fills with the number 7\n",
        "print(f\"Filled Tensor: \\n {x_filled} \\n\")\n",
        "\n",
        "x_ones = torch.ones_like(ft) # retains the properties of x_data\n",
        "print(f\"Ones Tensor: \\n {x_ones} \\n\")\n",
        "\n",
        "print(f\"Shape of tensor: {ft.shape}\")\n",
        "print(f\"Datatype of tensor: {ft.dtype}\")\n",
        "print(f\"Device tensor is stored on: {ft.device}\")\n"
      ]
    }
  ]
}